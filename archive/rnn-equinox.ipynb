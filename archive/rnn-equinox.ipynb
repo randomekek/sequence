{
 "cells": [
  {
   "cell_type": "code",
   "execution_count": 1,
   "id": "8ea76fb1-bdf3-4f93-a607-7e8ed5329cdc",
   "metadata": {},
   "outputs": [],
   "source": [
    "# imports\n",
    "import jax\n",
    "import jax.numpy as jnp\n",
    "import jax.example_libraries.optimizers as jopt\n",
    "import equinox as eqx\n",
    "import mnist\n",
    "import numpy.random as npr\n",
    "import math\n",
    "import datetime\n",
    "\n",
    "jax.config.update(\"jax_debug_nans\", True)\n",
    "jnp.set_printoptions(suppress=True, precision=2, floatmode='fixed')\n",
    "flt = jnp.float32\n",
    "assert jax.devices()[0].device_kind == 'NVIDIA GeForce RTX 3060'"
   ]
  },
  {
   "cell_type": "code",
   "execution_count": 2,
   "id": "1bf2ffd3-9f97-4f0a-a582-a49fe6355ed9",
   "metadata": {},
   "outputs": [],
   "source": [
    "# data source\n",
    "order = jnp.array(range(784))\n",
    "# np.random.RandomState(0).shuffle(order)\n",
    "\n",
    "train_images = mnist.train_images().reshape((-1, 784))[:, order] / 255\n",
    "train_labels = mnist.train_labels()\n",
    "train_labels_hot = jax.nn.one_hot(train_labels, 10)\n",
    "\n",
    "test_img = mnist.test_images().reshape((-1, 784))[:, order] / 255\n",
    "test_lbl = mnist.test_labels()\n",
    "\n",
    "# specific processing for this model\n",
    "train_images = jnp.expand_dims(train_images, axis=2)\n",
    "test_img = jnp.expand_dims(test_img, axis=2)"
   ]
  },
  {
   "cell_type": "code",
   "execution_count": 74,
   "id": "3df4c0a0-91ff-4871-99c3-f77bcce10649",
   "metadata": {},
   "outputs": [
    {
     "name": "stdout",
     "output_type": "stream",
     "text": [
      "[[[ 1.00  4.39 13.49 34.24 82.82]]\n",
      "\n",
      " [[ 2.00  5.78 14.81 36.40 87.98]]]\n"
     ]
    }
   ],
   "source": [
    "# DLN\n",
    "\n",
    "# B: batch size\n",
    "# L: input length\n",
    "# D: input dimensions\n",
    "# x(t) = x(t-1) * e(-abs(size) + i * theta) + y(t)\n",
    "class DLN(eqx.Module):\n",
    "  size: jax.Array # D\n",
    "  theta: jax.Array # D\n",
    "  linear: eqx.nn.Linear # D -> D\n",
    "  D: int = eqx.static_field()\n",
    "\n",
    "  def __init__(self, key: jax.random.KeyArray, D: int):\n",
    "    size_key, theta_key = jax.random.split(key)\n",
    "    self.size = jax.random.normal(size_key, [D])\n",
    "    self.theta = jax.random.normal(theta_key, [D]) * jnp.pi\n",
    "    self.linear = eqx.nn.Linear(D, D, use_bias=False, key=key)\n",
    "    self.D = D\n",
    "\n",
    "  def __call__(self, y):  # [B, L, D]\n",
    "    return jax.vmap(self.batchless)(y)\n",
    "\n",
    "  def batchless(self, y):  # [L, D]\n",
    "    return jax.vmap(self.dimensionless, (1, 0, 0))(y, self.size, self.theta)\n",
    "\n",
    "  def dimensionless(self, y, size, theta):  # [L],\n",
    "    # theta adjustment for size ~ 0\n",
    "    z = jnp.exp(-jnp.abs(size)) # + 1j * theta\n",
    "    def combine(a, b):\n",
    "      pa, va = a\n",
    "      pb, vb = b\n",
    "      return jnp.stack([pa + pb, va * jnp.exp(z * pb) + vb])\n",
    "    y = jnp.stack([jnp.ones(y.shape), y])  # [2, L]\n",
    "    y = jnp.take(jax.lax.associative_scan(combine, y, axis=1), 1, axis=0)  # [L]\n",
    "    # y = self.linear(y)\n",
    "    return y\n",
    "\n",
    "a = DLN(jax.random.PRNGKey(42), 1)\n",
    "b = a(jnp.array([[[1], [2], [3], [2], [1]], [[2], [1], [1], [1], [1]]]))\n",
    "#b = a(jnp.array([[[1], [2], [3], [4], [1]]]))\n",
    "print(b)\n"
   ]
  }
 ],
 "metadata": {
  "kernelspec": {
   "display_name": "Python 3 (ipykernel)",
   "language": "python",
   "name": "python3"
  },
  "language_info": {
   "codemirror_mode": {
    "name": "ipython",
    "version": 3
   },
   "file_extension": ".py",
   "mimetype": "text/x-python",
   "name": "python",
   "nbconvert_exporter": "python",
   "pygments_lexer": "ipython3",
   "version": "3.10.10"
  },
  "toc-autonumbering": false,
  "toc-showtags": false
 },
 "nbformat": 4,
 "nbformat_minor": 5
}
