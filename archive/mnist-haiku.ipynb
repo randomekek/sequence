{
 "cells": [
  {
   "cell_type": "code",
   "execution_count": 1,
   "id": "a58621d2",
   "metadata": {},
   "outputs": [],
   "source": [
    "import jax\n",
    "import jax.numpy as jnp\n",
    "import jax.example_libraries.optimizers as jopt\n",
    "import haiku as hk\n",
    "import mnist\n",
    "import numpy as np\n",
    "import math\n",
    "import datetime\n",
    "\n",
    "jax.config.update(\"jax_debug_nans\", False)\n",
    "float_type = jnp.float32"
   ]
  },
  {
   "cell_type": "code",
   "execution_count": 18,
   "id": "1e1c8f88",
   "metadata": {},
   "outputs": [],
   "source": [
    "class Base(hk.Module):\n",
    "\n",
    "  def __init__(self, j, k, name=None):\n",
    "    super().__init__(name=name)\n",
    "    self.j = j\n",
    "    self.k = k\n",
    "\n",
    "  def __call__(self, x):\n",
    "    j = self.j\n",
    "    k = self.k\n",
    "    w_init = hk.initializers.TruncatedNormal(1.0 / np.sqrt(j))\n",
    "    w = hk.get_parameter(\"w\", shape=[j, k], dtype=float_type, init=w_init)\n",
    "    b = hk.get_parameter(\"b\", shape=[k], dtype=float_type, init=jnp.ones)\n",
    "    return jax.nn.relu(jnp.dot(x, w) + b) + x"
   ]
  },
  {
   "cell_type": "code",
   "execution_count": 19,
   "id": "7274be99",
   "metadata": {},
   "outputs": [],
   "source": [
    "@hk.transform\n",
    "def model(x):\n",
    "    return Base(2, 2, \"MyLayer\")(x)"
   ]
  },
  {
   "cell_type": "code",
   "execution_count": 20,
   "id": "6367dfa4",
   "metadata": {},
   "outputs": [],
   "source": [
    "x = jnp.array(jnp.array([[0,1]]))\n",
    "params = model.init(rng=jax.random.PRNGKey(0), x=x)"
   ]
  },
  {
   "cell_type": "code",
   "execution_count": 21,
   "id": "21059c09",
   "metadata": {},
   "outputs": [
    {
     "data": {
      "text/plain": [
       "Array([[-0.39705074,  0.530758  ]], dtype=float32)"
      ]
     },
     "execution_count": 21,
     "metadata": {},
     "output_type": "execute_result"
    }
   ],
   "source": [
    "model.apply(params=params, x=x, rng=jax.random.PRNGKey(0))"
   ]
  },
  {
   "cell_type": "code",
   "execution_count": 22,
   "id": "e9dada56",
   "metadata": {},
   "outputs": [
    {
     "data": {
      "text/plain": [
       "{'MyLayer': {'w': Array([[ 0.74966276, -0.09669809],\n",
       "         [-0.39705074,  0.530758  ]], dtype=float32),\n",
       "  'b': Array([1., 1.], dtype=float32)}}"
      ]
     },
     "execution_count": 22,
     "metadata": {},
     "output_type": "execute_result"
    }
   ],
   "source": [
    "params"
   ]
  }
 ],
 "metadata": {
  "kernelspec": {
   "display_name": "Python 3 (ipykernel)",
   "language": "python",
   "name": "python3"
  },
  "language_info": {
   "codemirror_mode": {
    "name": "ipython",
    "version": 3
   },
   "file_extension": ".py",
   "mimetype": "text/x-python",
   "name": "python",
   "nbconvert_exporter": "python",
   "pygments_lexer": "ipython3",
   "version": "3.11.0"
  }
 },
 "nbformat": 4,
 "nbformat_minor": 5
}
