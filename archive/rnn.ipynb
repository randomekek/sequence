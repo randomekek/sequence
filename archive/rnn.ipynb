{
 "cells": [
  {
   "cell_type": "code",
   "execution_count": 1,
   "id": "c683e3d0",
   "metadata": {},
   "outputs": [],
   "source": [
    "import jax\n",
    "import jax.numpy as jnp\n",
    "import jax.example_libraries.optimizers as jopt\n",
    "import haiku as hk\n",
    "import mnist\n",
    "import numpy as np\n",
    "import math\n",
    "import datetime\n",
    "import dataclasses\n",
    "import optax\n",
    "\n",
    "from typing import Optional, NamedTuple\n",
    "\n",
    "jax.config.update(\"jax_debug_nans\", True)\n",
    "jnp.set_printoptions(suppress=True, precision=2, floatmode='fixed')\n",
    "flt = jnp.float32\n",
    "assert jax.devices()[0].device_kind == 'NVIDIA GeForce RTX 3060'"
   ]
  },
  {
   "cell_type": "code",
   "execution_count": 2,
   "id": "e1fd73a2",
   "metadata": {},
   "outputs": [],
   "source": [
    "order = np.array(range(784))\n",
    "# np.random.RandomState(0).shuffle(order)\n",
    "\n",
    "train_images = mnist.train_images().reshape((-1, 784))[:, order] / 255\n",
    "train_labels = mnist.train_labels()\n",
    "train_labels_hot = jax.nn.one_hot(train_labels, 10)\n",
    "\n",
    "test_img = mnist.test_images().reshape((-1, 784))[:, order] / 255\n",
    "test_lbl = mnist.test_labels()\n",
    "\n",
    "# specific processing for this model\n",
    "train_images = jnp.expand_dims(train_images, axis=2)\n",
    "test_img = jnp.expand_dims(test_img, axis=2)"
   ]
  },
  {
   "cell_type": "code",
   "execution_count": 3,
   "id": "9f2e926b",
   "metadata": {
    "scrolled": false
   },
   "outputs": [],
   "source": [
    "@dataclasses.dataclass\n",
    "class DLN(hk.Module):\n",
    "    head_len: int\n",
    "    input_dim: int\n",
    "    seq_len: int\n",
    "    name: Optional[str] = None\n",
    "\n",
    "    def __call__(\n",
    "        self,\n",
    "        x # [B, seq_len, input_dim]\n",
    "    ):\n",
    "        k = self.head_len * self.input_dim\n",
    "        size = hk.get_parameter('size', shape=[k], dtype=flt, init=hk.initializers.RandomNormal())\n",
    "        theta = hk.get_parameter('theta', shape=[k], dtype=flt, init=hk.initializers.RandomNormal(jnp.pi))\n",
    "        weights = hk.get_parameter('weights', shape=[k,k], dtype=flt, init=hk.initializers.TruncatedNormal(stddev=1./jnp.sqrt(k)))\n",
    "        linear = jnp.arange(0, self.seq_len).reshape(-1, 1)  # [seq_len, 1]\n",
    "        diags = jnp.exp((-jnp.square(size) + 1j * theta) * linear)  # (seq_len, head_len * input_dim)\n",
    "        x = diags * jnp.tile(x, (1, 1, self.head_len))  # [B, seq_len, head_len * input_dim]\n",
    "        x = jnp.sum(x, axis=1)  # [B, head_len * input_dim]\n",
    "        x = (x @ weights)  # [B, head_len * input_dim]\n",
    "        x = jnp.real(x) * jnp.imag(x)  # [B, head_len * input_dim]\n",
    "        return x\n",
    "\n",
    "@hk.transform\n",
    "def model(x):\n",
    "    x = DLN(head_len=800, input_dim=1, seq_len=784, name='dln')(x)  # [B, head_len * input_dim]\n",
    "    x = hk.dropout(hk.next_rng_key(), 0.2, x)\n",
    "    x = hk.Linear(output_size=10, with_bias=True)(x)  # [B, 10]\n",
    "    x = jax.nn.softmax(x)\n",
    "    return x\n",
    "\n",
    "def loss(params: hk.Params, rnd, inputs, outputs):\n",
    "    guess = model.apply(params, rnd, inputs)\n",
    "    return -jnp.mean(jnp.log(jnp.sum(guess * outputs, axis=1)))\n",
    "\n",
    "a = model.init(x=train_images[0:2,:], rng=jax.random.PRNGKey(0))"
   ]
  },
  {
   "cell_type": "code",
   "execution_count": null,
   "id": "0fe59604",
   "metadata": {
    "scrolled": true
   },
   "outputs": [
    {
     "name": "stdout",
     "output_type": "stream",
     "text": [
      "000 0.220 / 0.170\n",
      "955 0.890 / 0.850\n",
      "1937 0.930 / 0.970\n",
      "interrupt\n",
      "2098 0.908 / 0.874 (done)\n"
     ]
    }
   ],
   "source": [
    "class State(NamedTuple):\n",
    "    params: hk.Params\n",
    "    opt_state: optax.OptState\n",
    "\n",
    "@jax.jit\n",
    "def update(state: State, rnd, inputs, outputs) -> State:\n",
    "    grads = jax.grad(loss)(state.params, rnd, inputs, outputs)\n",
    "    updates, opt_state = optimizer.update(grads, state.opt_state)\n",
    "    return State(optax.apply_updates(state.params, updates), opt_state)\n",
    "\n",
    "def init(optimizer) -> State:\n",
    "    sample = train_images[0:5,:]\n",
    "    init_params = model.init(jax.random.PRNGKey(0), sample)\n",
    "    return State(init_params, optimizer.init(init_params))\n",
    "\n",
    "optimizer = optax.adam(1e-4)\n",
    "state = init(optimizer)\n",
    "t = datetime.datetime.now()\n",
    "steps = 100000\n",
    "batch_size = (30,)\n",
    "rnd = jax.random.split(jax.random.PRNGKey(0), steps)\n",
    "\n",
    "try:\n",
    "    for i in range(0, steps):\n",
    "        inputs = jax.random.choice(rnd[i], train_images, batch_size)\n",
    "        outputs = jax.random.choice(rnd[i], train_labels_hot, batch_size)\n",
    "        state = update(state, rnd[i], inputs, outputs)\n",
    "        if i == 0 or (datetime.datetime.now() - t).total_seconds() > 5.0:\n",
    "            accuracy = jnp.mean(jnp.argmax(model.apply(state.params, rnd[i], train_images[0:100,:]), axis=1) == train_labels[0:100])\n",
    "            test = jnp.mean(jnp.argmax(model.apply(state.params, rnd[i], test_img[0:100,:]), axis=1) == test_lbl[0:100])\n",
    "            print(f'{i:03d} {accuracy:0.3f} / {test:0.3f}')\n",
    "            t = datetime.datetime.now()\n",
    "except KeyboardInterrupt:\n",
    "    print('interrupt')\n",
    "\n",
    "accuracy = jnp.mean(jnp.argmax(model.apply(state.params, rnd[i], train_images[0:500,:]), axis=1) == train_labels[0:500])\n",
    "test = jnp.mean(jnp.argmax(model.apply(state.params, rnd[i], test_img[0:500,:]), axis=1) == test_lbl[0:500])\n",
    "print(f'{i:03d} {accuracy:0.3f} / {test:0.3f} (done)')"
   ]
  },
  {
   "cell_type": "code",
   "execution_count": null,
   "id": "b2bdf6ca",
   "metadata": {
    "scrolled": false
   },
   "outputs": [],
   "source": [
    "state.params"
   ]
  }
 ],
 "metadata": {
  "kernelspec": {
   "display_name": "Python 3 (ipykernel)",
   "language": "python",
   "name": "python3"
  },
  "language_info": {
   "codemirror_mode": {
    "name": "ipython",
    "version": 3
   },
   "file_extension": ".py",
   "mimetype": "text/x-python",
   "name": "python",
   "nbconvert_exporter": "python",
   "pygments_lexer": "ipython3",
   "version": "3.10.10"
  }
 },
 "nbformat": 4,
 "nbformat_minor": 5
}
